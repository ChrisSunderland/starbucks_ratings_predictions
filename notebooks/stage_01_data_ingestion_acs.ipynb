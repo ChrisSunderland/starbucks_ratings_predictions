{
 "cells": [
  {
   "cell_type": "markdown",
   "id": "c1399dc2",
   "metadata": {},
   "source": [
    "# 01 DATA INGESTION"
   ]
  },
  {
   "cell_type": "markdown",
   "id": "2fdf5124",
   "metadata": {},
   "source": [
    "## American Community Survey Data"
   ]
  },
  {
   "cell_type": "code",
   "execution_count": 1,
   "id": "f998f066",
   "metadata": {},
   "outputs": [],
   "source": [
    "import os\n",
    "import pandas as pd"
   ]
  },
  {
   "cell_type": "code",
   "execution_count": 2,
   "id": "13311b8c",
   "metadata": {},
   "outputs": [],
   "source": [
    "pd.set_option('display.max_columns', None)\n",
    "pd.set_option('display.max_rows', None)"
   ]
  },
  {
   "cell_type": "markdown",
   "id": "ef861772",
   "metadata": {},
   "source": [
    "Get in the correct working directory"
   ]
  },
  {
   "cell_type": "code",
   "execution_count": 3,
   "id": "4dff7849",
   "metadata": {},
   "outputs": [
    {
     "data": {
      "text/plain": [
       "'/Users/chrissunderland/Desktop/starbucks_store_predictions/research'"
      ]
     },
     "execution_count": 3,
     "metadata": {},
     "output_type": "execute_result"
    }
   ],
   "source": [
    "%pwd"
   ]
  },
  {
   "cell_type": "code",
   "execution_count": 4,
   "id": "68318e33",
   "metadata": {},
   "outputs": [],
   "source": [
    "os.chdir(\"../\")"
   ]
  },
  {
   "cell_type": "code",
   "execution_count": 5,
   "id": "0eeff0ff",
   "metadata": {},
   "outputs": [
    {
     "data": {
      "text/plain": [
       "'/Users/chrissunderland/Desktop/starbucks_store_predictions'"
      ]
     },
     "execution_count": 5,
     "metadata": {},
     "output_type": "execute_result"
    }
   ],
   "source": [
    "%pwd"
   ]
  },
  {
   "cell_type": "markdown",
   "id": "cd33677a",
   "metadata": {},
   "source": [
    "### Ingest the census bureau's acs datasets"
   ]
  },
  {
   "cell_type": "code",
   "execution_count": 6,
   "id": "048c5586",
   "metadata": {},
   "outputs": [],
   "source": [
    "from src.StarbucksProject.constants import *\n",
    "from src.StarbucksProject.utils.common import read_yaml, create_directories\n",
    "from src.StarbucksProject.utils.common import get_size\n",
    "from src.StarbucksProject import logger"
   ]
  },
  {
   "cell_type": "code",
   "execution_count": 7,
   "id": "af1c46a7",
   "metadata": {},
   "outputs": [],
   "source": [
    "import urllib.request as request\n",
    "import zipfile\n",
    "from pathlib import Path"
   ]
  },
  {
   "cell_type": "code",
   "execution_count": 8,
   "id": "ab8f25cb",
   "metadata": {
    "scrolled": true
   },
   "outputs": [
    {
     "name": "stdout",
     "output_type": "stream",
     "text": [
      "[2024-07-09 18:53:13,427: INFO: common: yaml file: config/config.yaml loaded successfully]\n"
     ]
    }
   ],
   "source": [
    "config = read_yaml(CONFIG_FILE_PATH)"
   ]
  },
  {
   "cell_type": "code",
   "execution_count": 9,
   "id": "c21ee901",
   "metadata": {},
   "outputs": [
    {
     "name": "stdout",
     "output_type": "stream",
     "text": [
      "[2024-07-09 18:53:13,432: INFO: common: created directory at: artifacts]\n",
      "[2024-07-09 18:53:13,433: INFO: common: created directory at: artifacts/data_ingestion]\n"
     ]
    }
   ],
   "source": [
    "create_directories([config.artifacts_root, config.data_ingestion.root_dir])"
   ]
  },
  {
   "cell_type": "markdown",
   "id": "53d8009e",
   "metadata": {},
   "source": [
    "Download the file"
   ]
  },
  {
   "cell_type": "code",
   "execution_count": 10,
   "id": "a4dc4934",
   "metadata": {},
   "outputs": [
    {
     "name": "stdout",
     "output_type": "stream",
     "text": [
      "[2024-07-09 18:53:13,441: INFO: 3030093056: File already exists of size: ~ 1857 KB]\n"
     ]
    }
   ],
   "source": [
    "if not os.path.exists(config.data_ingestion.local_zip_file):\n",
    "    \n",
    "    filename, headers = request.urlretrieve(url=config.data_ingestion.acs_source_url,\n",
    "                                            filename=config.data_ingestion.local_zip_file)\n",
    "    logger.info(f\"{filename} downloaded with following info: \\n{headers}\")\n",
    "else:\n",
    "\n",
    "    logger.info(f\"File already exists of size: {get_size(Path(config.data_ingestion.local_zip_file))}\")"
   ]
  },
  {
   "cell_type": "markdown",
   "id": "d568fd33",
   "metadata": {},
   "source": [
    "Extract zip file"
   ]
  },
  {
   "cell_type": "code",
   "execution_count": 11,
   "id": "ec561d6d",
   "metadata": {},
   "outputs": [],
   "source": [
    "unzip_path = config.data_ingestion.root_dir\n",
    "\n",
    "with zipfile.ZipFile(config.data_ingestion.local_zip_file, 'r') as zip_ref:\n",
    "\n",
    "    zip_ref.extractall(unzip_path)"
   ]
  },
  {
   "cell_type": "markdown",
   "id": "2789d1ce",
   "metadata": {},
   "source": [
    "Define function to clean the ACS csv files"
   ]
  },
  {
   "cell_type": "code",
   "execution_count": 12,
   "id": "9cd3ab69",
   "metadata": {},
   "outputs": [],
   "source": [
    "def clean_acs_csv(df):\n",
    "\n",
    "    clean_df = df.copy()\n",
    "\n",
    "    clean_df.rename(columns={\"Label (Grouping)\": \"ZCTA\"}, inplace=True)\n",
    "\n",
    "    clean_df.dropna(axis=1, how='all', inplace=True)\n",
    "\n",
    "    cols = clean_df.columns\n",
    "\n",
    "    clean_df.rename(columns= dict(zip(clean_df.columns[1:], [\" \".join(col.split(\"!!\")[1:]) for col in list(cols[1:])])), inplace=True)\n",
    "\n",
    "    clean_df = clean_df.loc[:, ~clean_df.columns.duplicated()]\n",
    "\n",
    "    clean_df.iloc[:, 1:] = clean_df.iloc[:, 1:].shift(periods=-1)\n",
    "\n",
    "    clean_df[\"ZCTA\"] = clean_df[\"ZCTA\"].str.strip()\n",
    "\n",
    "    clean_df = clean_df[clean_df[\"ZCTA\"].str.startswith(\"Z\")]\n",
    "\n",
    "    clean_df[\"ZCTA\"] = clean_df[\"ZCTA\"].apply(lambda x: x.split()[1])\n",
    "\n",
    "    clean_df.reset_index(drop=True, inplace=True)\n",
    "\n",
    "    return clean_df    "
   ]
  },
  {
   "cell_type": "markdown",
   "id": "ab075b1e",
   "metadata": {},
   "source": [
    "Clean the CSV files"
   ]
  },
  {
   "cell_type": "code",
   "execution_count": 13,
   "id": "fe3b4136",
   "metadata": {},
   "outputs": [],
   "source": [
    "# CSV 1 - ACS 'selected social characteristics'\n",
    "co_social = pd.read_csv('artifacts/data_ingestion/acs_data/co_social.csv')\n",
    "co_social_clean = clean_acs_csv(co_social)"
   ]
  },
  {
   "cell_type": "code",
   "execution_count": 14,
   "id": "f09b27e0",
   "metadata": {},
   "outputs": [
    {
     "data": {
      "text/plain": [
       "(530, 153)"
      ]
     },
     "execution_count": 14,
     "metadata": {},
     "output_type": "execute_result"
    }
   ],
   "source": [
    "co_social_clean.shape"
   ]
  },
  {
   "cell_type": "code",
   "execution_count": 15,
   "id": "19437bf5",
   "metadata": {},
   "outputs": [],
   "source": [
    "# CSV 2 - ACS 'selected economic characteristics'\n",
    "co_econ = pd.read_csv('artifacts/data_ingestion/acs_data/co_econ.csv')\n",
    "co_econ_clean = clean_acs_csv(co_econ)"
   ]
  },
  {
   "cell_type": "code",
   "execution_count": 16,
   "id": "8ce0a03b",
   "metadata": {},
   "outputs": [
    {
     "data": {
      "text/plain": [
       "(530, 136)"
      ]
     },
     "execution_count": 16,
     "metadata": {},
     "output_type": "execute_result"
    }
   ],
   "source": [
    "co_econ_clean.shape"
   ]
  },
  {
   "cell_type": "code",
   "execution_count": 17,
   "id": "6a427616",
   "metadata": {},
   "outputs": [],
   "source": [
    "# CSV 3 - ACS 'selected housing characteristics'\n",
    "co_housing = pd.read_csv('artifacts/data_ingestion/acs_data/co_housing.csv')\n",
    "co_housing_clean = clean_acs_csv(co_housing)"
   ]
  },
  {
   "cell_type": "code",
   "execution_count": 18,
   "id": "cf510690",
   "metadata": {},
   "outputs": [
    {
     "data": {
      "text/plain": [
       "(530, 134)"
      ]
     },
     "execution_count": 18,
     "metadata": {},
     "output_type": "execute_result"
    }
   ],
   "source": [
    "co_housing_clean.shape"
   ]
  },
  {
   "cell_type": "code",
   "execution_count": 19,
   "id": "2fb0116e",
   "metadata": {},
   "outputs": [],
   "source": [
    "# CSV 4 - ACS 'demographic & housing estimates'\n",
    "co_demo_housing = pd.read_csv('artifacts/data_ingestion/acs_data/co_demo_housing.csv')\n",
    "co_demo_housing.drop('Total housing units', axis=1, inplace=True)\n",
    "co_demo_housing_clean = clean_acs_csv(co_demo_housing)"
   ]
  },
  {
   "cell_type": "code",
   "execution_count": 20,
   "id": "03c41e26",
   "metadata": {},
   "outputs": [
    {
     "data": {
      "text/plain": [
       "(530, 88)"
      ]
     },
     "execution_count": 20,
     "metadata": {},
     "output_type": "execute_result"
    }
   ],
   "source": [
    "co_demo_housing_clean.shape"
   ]
  },
  {
   "cell_type": "markdown",
   "id": "2ed6e12e",
   "metadata": {},
   "source": [
    "Add the cleaned CSVs to the project's 'artifacts' folder"
   ]
  },
  {
   "cell_type": "code",
   "execution_count": 21,
   "id": "59e77f25",
   "metadata": {},
   "outputs": [
    {
     "name": "stdout",
     "output_type": "stream",
     "text": [
      "[2024-07-09 18:53:13,988: INFO: common: created directory at: artifacts/data_ingestion/acs_data_clean]\n"
     ]
    }
   ],
   "source": [
    "create_directories([config.data_ingestion.acs_data_clean])"
   ]
  },
  {
   "cell_type": "code",
   "execution_count": 22,
   "id": "d979227c",
   "metadata": {},
   "outputs": [],
   "source": [
    "co_social_clean.to_csv(config.data_ingestion.acs_social_clean)\n",
    "co_econ_clean.to_csv(config.data_ingestion.acs_econ_clean)\n",
    "co_housing_clean.to_csv(config.data_ingestion.acs_housing_clean)\n",
    "co_demo_housing_clean.to_csv(config.data_ingestion.acs_demo_housing_clean)"
   ]
  },
  {
   "cell_type": "code",
   "execution_count": null,
   "id": "d79fc772",
   "metadata": {},
   "outputs": [],
   "source": []
  }
 ],
 "metadata": {
  "kernelspec": {
   "display_name": "starbucks_project",
   "language": "python",
   "name": "starbucks_project"
  },
  "language_info": {
   "codemirror_mode": {
    "name": "ipython",
    "version": 3
   },
   "file_extension": ".py",
   "mimetype": "text/x-python",
   "name": "python",
   "nbconvert_exporter": "python",
   "pygments_lexer": "ipython3",
   "version": "3.10.14"
  }
 },
 "nbformat": 4,
 "nbformat_minor": 5
}
