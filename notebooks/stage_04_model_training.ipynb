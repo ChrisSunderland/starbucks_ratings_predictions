{
 "cells": [
  {
   "cell_type": "markdown",
   "id": "c66060dd",
   "metadata": {},
   "source": [
    "# 04 MODEL TRAINING"
   ]
  },
  {
   "cell_type": "code",
   "execution_count": 1,
   "id": "f060e4fd",
   "metadata": {},
   "outputs": [],
   "source": [
    "import os\n",
    "import pandas as pd\n",
    "import numpy as np"
   ]
  },
  {
   "cell_type": "code",
   "execution_count": 2,
   "id": "168af1ca",
   "metadata": {},
   "outputs": [],
   "source": [
    "pd.set_option('display.max_columns', None)\n",
    "pd.set_option('display.max_rows', None)"
   ]
  },
  {
   "cell_type": "markdown",
   "id": "db41e8db",
   "metadata": {},
   "source": [
    "Get in the correct working directory"
   ]
  },
  {
   "cell_type": "code",
   "execution_count": 3,
   "id": "8bf77d3b",
   "metadata": {
    "scrolled": true
   },
   "outputs": [
    {
     "data": {
      "text/plain": [
       "'/Users/chrissunderland/Desktop/starbucks_ratings_predictions/notebooks'"
      ]
     },
     "execution_count": 3,
     "metadata": {},
     "output_type": "execute_result"
    }
   ],
   "source": [
    "%pwd"
   ]
  },
  {
   "cell_type": "code",
   "execution_count": 4,
   "id": "fcffe526",
   "metadata": {},
   "outputs": [],
   "source": [
    "os.chdir(\"../\")"
   ]
  },
  {
   "cell_type": "code",
   "execution_count": 5,
   "id": "e8cf43e8",
   "metadata": {},
   "outputs": [
    {
     "data": {
      "text/plain": [
       "'/Users/chrissunderland/Desktop/starbucks_ratings_predictions'"
      ]
     },
     "execution_count": 5,
     "metadata": {},
     "output_type": "execute_result"
    }
   ],
   "source": [
    "%pwd"
   ]
  },
  {
   "cell_type": "markdown",
   "id": "6bd051f3",
   "metadata": {},
   "source": [
    "### Model Experiments"
   ]
  },
  {
   "cell_type": "code",
   "execution_count": 6,
   "id": "509492e4",
   "metadata": {},
   "outputs": [],
   "source": [
    "from src.StarbucksProject.constants import *\n",
    "from src.StarbucksProject.utils.common import read_yaml, create_directories"
   ]
  },
  {
   "cell_type": "markdown",
   "id": "8c52f15c",
   "metadata": {},
   "source": [
    "#### Load the data"
   ]
  },
  {
   "cell_type": "code",
   "execution_count": 7,
   "id": "f80d285c",
   "metadata": {
    "scrolled": true
   },
   "outputs": [
    {
     "name": "stdout",
     "output_type": "stream",
     "text": [
      "[ 2024-07-17 12:16:46,023: INFO: common: yaml file: config/config.yaml loaded successfully ]\n",
      "[ 2024-07-17 12:16:46,030: INFO: common: yaml file: config/config.yaml loaded successfully ]\n"
     ]
    }
   ],
   "source": [
    "X_train_path = read_yaml(CONFIG_FILE_PATH).model_training.x_train_path\n",
    "y_train_path = read_yaml(CONFIG_FILE_PATH).model_training.y_train_path"
   ]
  },
  {
   "cell_type": "code",
   "execution_count": 8,
   "id": "e1da4940",
   "metadata": {},
   "outputs": [],
   "source": [
    "X_train = pd.read_csv(X_train_path)\n",
    "y_train = pd.read_csv(y_train_path).values"
   ]
  },
  {
   "cell_type": "markdown",
   "id": "c8451796",
   "metadata": {},
   "source": [
    "Complete any remaining data preprocessing steps"
   ]
  },
  {
   "cell_type": "code",
   "execution_count": 9,
   "id": "fb04b538",
   "metadata": {},
   "outputs": [],
   "source": [
    "from sklearn.preprocessing import StandardScaler"
   ]
  },
  {
   "cell_type": "code",
   "execution_count": 10,
   "id": "28d4d933",
   "metadata": {},
   "outputs": [],
   "source": [
    "scaler = StandardScaler()\n",
    "X_train_scaled = scaler.fit_transform(X_train)"
   ]
  },
  {
   "cell_type": "markdown",
   "id": "e707fd47",
   "metadata": {},
   "source": [
    "#### Fit several models to the data and evaluate baseline performance"
   ]
  },
  {
   "cell_type": "code",
   "execution_count": 11,
   "id": "aa3fbb13",
   "metadata": {},
   "outputs": [],
   "source": [
    "from sklearn.model_selection import cross_val_score"
   ]
  },
  {
   "cell_type": "code",
   "execution_count": 12,
   "id": "efc45476",
   "metadata": {},
   "outputs": [],
   "source": [
    "def fit_model(model_name, x, y):\n",
    "    \n",
    "    model = model_name\n",
    "    model.fit(x, y)\n",
    "    \n",
    "    cv_scores = cross_val_score(model_name, x, y, cv=3, scoring='neg_mean_absolute_error')\n",
    "    cv_mae_scores = np.abs(cv_scores)\n",
    "\n",
    "    return cv_mae_scores"
   ]
  },
  {
   "cell_type": "markdown",
   "id": "5234f1c9",
   "metadata": {},
   "source": [
    "#### Model 1 -  K Neighbors Regressor"
   ]
  },
  {
   "cell_type": "code",
   "execution_count": 13,
   "id": "c5bd85dd",
   "metadata": {},
   "outputs": [],
   "source": [
    "from sklearn.neighbors import KNeighborsRegressor"
   ]
  },
  {
   "cell_type": "code",
   "execution_count": 14,
   "id": "6e9674ab",
   "metadata": {
    "scrolled": true
   },
   "outputs": [
    {
     "name": "stdout",
     "output_type": "stream",
     "text": [
      "K Neighbors CV MAE scores = [0.4037619  0.39497619 0.44602439]\n"
     ]
    }
   ],
   "source": [
    "knr_mae_scores = fit_model(KNeighborsRegressor(), X_train_scaled, y_train)\n",
    "print(f\"K Neighbors CV MAE scores = {knr_mae_scores}\")"
   ]
  },
  {
   "cell_type": "markdown",
   "id": "e2be616d",
   "metadata": {},
   "source": [
    "#### Model 2 - Random Forest Regressor"
   ]
  },
  {
   "cell_type": "code",
   "execution_count": 15,
   "id": "38ae1dc0",
   "metadata": {},
   "outputs": [],
   "source": [
    "from sklearn.ensemble import RandomForestRegressor"
   ]
  },
  {
   "cell_type": "code",
   "execution_count": 16,
   "id": "e55f04ae",
   "metadata": {},
   "outputs": [],
   "source": [
    "rf_mae_scores = fit_model(RandomForestRegressor(), X_train_scaled, y_train.ravel())"
   ]
  },
  {
   "cell_type": "code",
   "execution_count": 17,
   "id": "14f1c4fe",
   "metadata": {},
   "outputs": [
    {
     "name": "stdout",
     "output_type": "stream",
     "text": [
      "RF CV MAE scores = [0.44528238 0.42798786 0.40852415]\n"
     ]
    }
   ],
   "source": [
    "print(f\"RF CV MAE scores = {rf_mae_scores}\")"
   ]
  },
  {
   "cell_type": "markdown",
   "id": "860ee0a5",
   "metadata": {},
   "source": [
    "#### Model 3 - AdaBoost Regressor"
   ]
  },
  {
   "cell_type": "code",
   "execution_count": 18,
   "id": "b9c4c859",
   "metadata": {},
   "outputs": [],
   "source": [
    "from sklearn.tree import DecisionTreeRegressor\n",
    "from sklearn.ensemble import AdaBoostRegressor"
   ]
  },
  {
   "cell_type": "code",
   "execution_count": 19,
   "id": "43171cde",
   "metadata": {},
   "outputs": [],
   "source": [
    "ada_mae_scores = fit_model(AdaBoostRegressor(), X_train_scaled, y_train.ravel())"
   ]
  },
  {
   "cell_type": "code",
   "execution_count": 20,
   "id": "4fe5177d",
   "metadata": {},
   "outputs": [
    {
     "data": {
      "text/plain": [
       "array([0.4200703 , 0.4283029 , 0.42665059])"
      ]
     },
     "execution_count": 20,
     "metadata": {},
     "output_type": "execute_result"
    }
   ],
   "source": [
    "ada_mae_scores"
   ]
  },
  {
   "cell_type": "markdown",
   "id": "037de9f1",
   "metadata": {},
   "source": [
    "### Create the entity"
   ]
  },
  {
   "cell_type": "code",
   "execution_count": 21,
   "id": "faca8947",
   "metadata": {},
   "outputs": [],
   "source": [
    "from dataclasses import dataclass\n",
    "from pathlib import Path"
   ]
  },
  {
   "cell_type": "code",
   "execution_count": 22,
   "id": "402482a8",
   "metadata": {},
   "outputs": [],
   "source": [
    "@dataclass(frozen=True)\n",
    "class ModelTrainerConfig:\n",
    "    \n",
    "    root_dir: Path\n",
    "    x_train_path: Path\n",
    "    y_train_path: Path\n",
    "    model_name: str"
   ]
  },
  {
   "cell_type": "markdown",
   "id": "46b3db95",
   "metadata": {},
   "source": [
    "### Create configuration manager"
   ]
  },
  {
   "cell_type": "code",
   "execution_count": 23,
   "id": "3c179f32",
   "metadata": {},
   "outputs": [],
   "source": [
    "from src.StarbucksProject.constants import *\n",
    "from src.StarbucksProject.utils.common import read_yaml, create_directories"
   ]
  },
  {
   "cell_type": "code",
   "execution_count": 24,
   "id": "8ba1812e",
   "metadata": {},
   "outputs": [],
   "source": [
    "class ConfigurationManager:\n",
    "\n",
    "    def __init__(self,\n",
    "                 config_filepath=CONFIG_FILE_PATH, \n",
    "                 params_filepath=PARAMS_FILE_PATH,\n",
    "                 schema_filepath=SCHEMA_FILE_PATH):\n",
    "\n",
    "        self.config = read_yaml(config_filepath)\n",
    "        self.params = read_yaml(params_filepath)\n",
    "        self.schema = read_yaml(schema_filepath)\n",
    "\n",
    "        create_directories([self.config.artifacts_root])\n",
    "\n",
    "    \n",
    "    def get_model_trainer_config(self) -> ModelTrainerConfig:\n",
    "        \n",
    "        config = self.config.model_training\n",
    "\n",
    "        create_directories([config.root_dir])\n",
    "\n",
    "        model_trainer_config = ModelTrainerConfig(\n",
    "            root_dir=config.root_dir,\n",
    "            x_train_path=config.x_train_path,\n",
    "            y_train_path=config.y_train_path,\n",
    "            model_name=config.model_name)\n",
    "\n",
    "        return model_trainer_config"
   ]
  },
  {
   "cell_type": "markdown",
   "id": "e1a373db",
   "metadata": {},
   "source": [
    "### Create the component"
   ]
  },
  {
   "cell_type": "code",
   "execution_count": 25,
   "id": "6a597107",
   "metadata": {},
   "outputs": [],
   "source": [
    "from src.StarbucksProject import logger\n",
    "import joblib"
   ]
  },
  {
   "cell_type": "code",
   "execution_count": 26,
   "id": "01e7c2ea",
   "metadata": {},
   "outputs": [],
   "source": [
    "class ModelTrainer:\n",
    "    \n",
    "    def __init__(self, config: ModelTrainerConfig):\n",
    "        \n",
    "        self.config = config\n",
    "\n",
    "    def train(self):\n",
    "                \n",
    "        X_train = pd.read_csv(self.config.x_train_path)\n",
    "        y_train = pd.read_csv(self.config.y_train_path)\n",
    "        \n",
    "        \n",
    "        scaler = StandardScaler()\n",
    "        X_train_scaled = scaler.fit_transform(X_train)\n",
    "            \n",
    "        \n",
    "        abr = AdaBoostRegressor()\n",
    "        abr.fit(X_train_scaled, y_train.values.ravel())\n",
    "        # knr = KNeighborsRegressor()\n",
    "        # knr.fit(X_train_scaled, y_train)\n",
    "        \n",
    "        joblib.dump(abr, os.path.join(self.config.root_dir, self.config.model_name))"
   ]
  },
  {
   "cell_type": "markdown",
   "id": "7c6d5668",
   "metadata": {},
   "source": [
    "### Create the pipeline"
   ]
  },
  {
   "cell_type": "code",
   "execution_count": 27,
   "id": "b3ea2b65",
   "metadata": {},
   "outputs": [
    {
     "name": "stdout",
     "output_type": "stream",
     "text": [
      "[ 2024-07-17 12:16:47,338: INFO: common: yaml file: config/config.yaml loaded successfully ]\n",
      "[ 2024-07-17 12:16:47,341: INFO: common: yaml file: params.yaml loaded successfully ]\n",
      "[ 2024-07-17 12:16:47,344: INFO: common: yaml file: schema.yaml loaded successfully ]\n",
      "[ 2024-07-17 12:16:47,345: INFO: common: created directory at: artifacts ]\n",
      "[ 2024-07-17 12:16:47,346: INFO: common: created directory at: artifacts/model_training ]\n"
     ]
    }
   ],
   "source": [
    "try:\n",
    "\n",
    "    config = ConfigurationManager()\n",
    "\n",
    "    model_trainer_config = config.get_model_trainer_config()\n",
    "\n",
    "    model_trainer = ModelTrainer(config=model_trainer_config)\n",
    "\n",
    "    model_trainer.train()\n",
    "    \n",
    "except Exception as e:\n",
    "\n",
    "    raise e"
   ]
  },
  {
   "cell_type": "markdown",
   "id": "f6216156",
   "metadata": {},
   "source": [
    "### Modularize the code (once working)"
   ]
  },
  {
   "cell_type": "markdown",
   "id": "74b5c1bc",
   "metadata": {},
   "source": [
    "- Return to project folder"
   ]
  }
 ],
 "metadata": {
  "kernelspec": {
   "display_name": "starbucks_project",
   "language": "python",
   "name": "starbucks_project"
  },
  "language_info": {
   "codemirror_mode": {
    "name": "ipython",
    "version": 3
   },
   "file_extension": ".py",
   "mimetype": "text/x-python",
   "name": "python",
   "nbconvert_exporter": "python",
   "pygments_lexer": "ipython3",
   "version": "3.10.14"
  }
 },
 "nbformat": 4,
 "nbformat_minor": 5
}
