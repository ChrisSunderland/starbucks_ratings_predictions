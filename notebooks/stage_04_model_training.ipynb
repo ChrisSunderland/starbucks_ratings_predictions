{
 "cells": [
  {
   "cell_type": "markdown",
   "id": "89e84297",
   "metadata": {},
   "source": [
    "# 04 MODEL TRAINING"
   ]
  },
  {
   "cell_type": "code",
   "execution_count": 1,
   "id": "15811556",
   "metadata": {},
   "outputs": [],
   "source": [
    "import os\n",
    "import pandas as pd\n",
    "import numpy as np"
   ]
  },
  {
   "cell_type": "code",
   "execution_count": 2,
   "id": "99bc6d0c",
   "metadata": {},
   "outputs": [],
   "source": [
    "pd.set_option('display.max_columns', None)\n",
    "pd.set_option('display.max_rows', None)"
   ]
  },
  {
   "cell_type": "markdown",
   "id": "59e2daf8",
   "metadata": {},
   "source": [
    "Get in the correct working directory"
   ]
  },
  {
   "cell_type": "code",
   "execution_count": 3,
   "id": "87cafa49",
   "metadata": {
    "scrolled": true
   },
   "outputs": [
    {
     "data": {
      "text/plain": [
       "'/Users/chrissunderland/Desktop/starbucks_ratings_predictions/notebooks'"
      ]
     },
     "execution_count": 3,
     "metadata": {},
     "output_type": "execute_result"
    }
   ],
   "source": [
    "%pwd"
   ]
  },
  {
   "cell_type": "code",
   "execution_count": 4,
   "id": "d44f7802",
   "metadata": {},
   "outputs": [],
   "source": [
    "os.chdir(\"../\")"
   ]
  },
  {
   "cell_type": "code",
   "execution_count": 5,
   "id": "5737bbab",
   "metadata": {},
   "outputs": [
    {
     "data": {
      "text/plain": [
       "'/Users/chrissunderland/Desktop/starbucks_ratings_predictions'"
      ]
     },
     "execution_count": 5,
     "metadata": {},
     "output_type": "execute_result"
    }
   ],
   "source": [
    "%pwd"
   ]
  },
  {
   "cell_type": "markdown",
   "id": "06e63d03",
   "metadata": {},
   "source": [
    "### Model Experiments"
   ]
  },
  {
   "cell_type": "code",
   "execution_count": 6,
   "id": "80d59f06",
   "metadata": {},
   "outputs": [],
   "source": [
    "from src.StarbucksProject.constants import *\n",
    "from src.StarbucksProject.utils.common import read_yaml, create_directories"
   ]
  },
  {
   "cell_type": "markdown",
   "id": "79e0c441",
   "metadata": {},
   "source": [
    "#### Load the data"
   ]
  },
  {
   "cell_type": "code",
   "execution_count": 7,
   "id": "17579ddf",
   "metadata": {
    "scrolled": true
   },
   "outputs": [
    {
     "name": "stdout",
     "output_type": "stream",
     "text": [
      "[ 2024-07-16 19:37:40,186: INFO: common: yaml file: config/config.yaml loaded successfully ]\n",
      "[ 2024-07-16 19:37:40,192: INFO: common: yaml file: config/config.yaml loaded successfully ]\n"
     ]
    }
   ],
   "source": [
    "X_train_path = read_yaml(CONFIG_FILE_PATH).model_training.x_train_path\n",
    "y_train_path = read_yaml(CONFIG_FILE_PATH).model_training.y_train_path"
   ]
  },
  {
   "cell_type": "code",
   "execution_count": 8,
   "id": "f4c7b6e6",
   "metadata": {},
   "outputs": [],
   "source": [
    "X_train = pd.read_csv(X_train_path)\n",
    "y_train = pd.read_csv(y_train_path).values"
   ]
  },
  {
   "cell_type": "markdown",
   "id": "146e5f32",
   "metadata": {},
   "source": [
    "Complete any remaining data preprocessing steps"
   ]
  },
  {
   "cell_type": "code",
   "execution_count": 9,
   "id": "f43e5fce",
   "metadata": {},
   "outputs": [],
   "source": [
    "from sklearn.preprocessing import StandardScaler"
   ]
  },
  {
   "cell_type": "code",
   "execution_count": 10,
   "id": "d4c7abff",
   "metadata": {},
   "outputs": [],
   "source": [
    "scaler = StandardScaler()\n",
    "X_train_scaled = scaler.fit_transform(X_train)"
   ]
  },
  {
   "cell_type": "markdown",
   "id": "a3b521af",
   "metadata": {},
   "source": [
    "#### Fit several models to the data and evaluate baseline performance"
   ]
  },
  {
   "cell_type": "code",
   "execution_count": 11,
   "id": "c970f61b",
   "metadata": {},
   "outputs": [],
   "source": [
    "from sklearn.model_selection import cross_val_score"
   ]
  },
  {
   "cell_type": "code",
   "execution_count": 12,
   "id": "81d6b3fa",
   "metadata": {},
   "outputs": [],
   "source": [
    "def fit_model(model_name, x, y):\n",
    "    \n",
    "    model = model_name\n",
    "    model.fit(x, y)\n",
    "    \n",
    "    cv_scores = cross_val_score(model_name, x, y, cv=3, scoring='neg_mean_absolute_error')\n",
    "    cv_mae_scores = np.abs(cv_scores)\n",
    "\n",
    "    return cv_mae_scores"
   ]
  },
  {
   "cell_type": "markdown",
   "id": "2486964b",
   "metadata": {},
   "source": [
    "#### Model 1 -  K Neighbors Regressor"
   ]
  },
  {
   "cell_type": "code",
   "execution_count": 13,
   "id": "9c975e71",
   "metadata": {},
   "outputs": [],
   "source": [
    "from sklearn.neighbors import KNeighborsRegressor"
   ]
  },
  {
   "cell_type": "code",
   "execution_count": 14,
   "id": "f497d516",
   "metadata": {
    "scrolled": true
   },
   "outputs": [
    {
     "name": "stdout",
     "output_type": "stream",
     "text": [
      "K Neighbors CV MAE scores = [0.4037619  0.39497619 0.44602439]\n"
     ]
    }
   ],
   "source": [
    "knr_mae_scores = fit_model(KNeighborsRegressor(), X_train_scaled, y_train)\n",
    "print(f\"K Neighbors CV MAE scores = {knr_mae_scores}\")"
   ]
  },
  {
   "cell_type": "markdown",
   "id": "d65b0bc7",
   "metadata": {},
   "source": [
    "#### Model 2 - Random Forest Regressor"
   ]
  },
  {
   "cell_type": "code",
   "execution_count": 15,
   "id": "2106f86e",
   "metadata": {},
   "outputs": [],
   "source": [
    "from sklearn.ensemble import RandomForestRegressor"
   ]
  },
  {
   "cell_type": "code",
   "execution_count": 16,
   "id": "1d5917a3",
   "metadata": {},
   "outputs": [],
   "source": [
    "rf_mae_scores = fit_model(RandomForestRegressor(), X_train_scaled, y_train.ravel())"
   ]
  },
  {
   "cell_type": "code",
   "execution_count": 17,
   "id": "8613ad0f",
   "metadata": {},
   "outputs": [
    {
     "name": "stdout",
     "output_type": "stream",
     "text": [
      "RF CV MAE scores = [0.44809976 0.43685643 0.41783829]\n"
     ]
    }
   ],
   "source": [
    "print(f\"RF CV MAE scores = {rf_mae_scores}\")"
   ]
  },
  {
   "cell_type": "markdown",
   "id": "36a8ff07",
   "metadata": {},
   "source": [
    "#### Model 3 - AdaBoost Regressor"
   ]
  },
  {
   "cell_type": "code",
   "execution_count": 18,
   "id": "8113eada",
   "metadata": {},
   "outputs": [],
   "source": [
    "from sklearn.tree import DecisionTreeRegressor\n",
    "from sklearn.ensemble import AdaBoostRegressor"
   ]
  },
  {
   "cell_type": "code",
   "execution_count": 19,
   "id": "61113b01",
   "metadata": {},
   "outputs": [],
   "source": [
    "ada_mae_scores = fit_model(AdaBoostRegressor(), X_train_scaled, y_train.ravel())"
   ]
  },
  {
   "cell_type": "code",
   "execution_count": 20,
   "id": "d7313987",
   "metadata": {},
   "outputs": [
    {
     "data": {
      "text/plain": [
       "array([0.43407101, 0.41146628, 0.45739036])"
      ]
     },
     "execution_count": 20,
     "metadata": {},
     "output_type": "execute_result"
    }
   ],
   "source": [
    "ada_mae_scores"
   ]
  },
  {
   "cell_type": "markdown",
   "id": "c8e0d8a1",
   "metadata": {},
   "source": [
    "### Create the entity"
   ]
  },
  {
   "cell_type": "code",
   "execution_count": 21,
   "id": "54749f12",
   "metadata": {},
   "outputs": [],
   "source": [
    "from dataclasses import dataclass\n",
    "from pathlib import Path"
   ]
  },
  {
   "cell_type": "code",
   "execution_count": 22,
   "id": "a845b886",
   "metadata": {},
   "outputs": [],
   "source": [
    "@dataclass(frozen=True)\n",
    "class ModelTrainerConfig:\n",
    "    \n",
    "    root_dir: Path\n",
    "    x_train_path: Path\n",
    "    y_train_path: Path\n",
    "    model_name: str"
   ]
  },
  {
   "cell_type": "markdown",
   "id": "6727a30a",
   "metadata": {},
   "source": [
    "### Create configuration manager"
   ]
  },
  {
   "cell_type": "code",
   "execution_count": 23,
   "id": "0551d007",
   "metadata": {},
   "outputs": [],
   "source": [
    "from src.StarbucksProject.constants import *\n",
    "from src.StarbucksProject.utils.common import read_yaml, create_directories"
   ]
  },
  {
   "cell_type": "code",
   "execution_count": 24,
   "id": "c67b5155",
   "metadata": {},
   "outputs": [],
   "source": [
    "class ConfigurationManager:\n",
    "\n",
    "    def __init__(self,\n",
    "                 config_filepath=CONFIG_FILE_PATH, \n",
    "                 params_filepath=PARAMS_FILE_PATH,\n",
    "                 schema_filepath=SCHEMA_FILE_PATH):\n",
    "\n",
    "        self.config = read_yaml(config_filepath)\n",
    "        self.params = read_yaml(params_filepath)\n",
    "        self.schema = read_yaml(schema_filepath)\n",
    "\n",
    "        create_directories([self.config.artifacts_root])\n",
    "\n",
    "    \n",
    "    def get_model_trainer_config(self) -> ModelTrainerConfig:\n",
    "        \n",
    "        config = self.config.model_training\n",
    "\n",
    "        create_directories([config.root_dir])\n",
    "\n",
    "        model_trainer_config = ModelTrainerConfig(\n",
    "            root_dir=config.root_dir,\n",
    "            x_train_path=config.x_train_path,\n",
    "            y_train_path=config.y_train_path,\n",
    "            model_name=config.model_name)\n",
    "\n",
    "        return model_trainer_config"
   ]
  },
  {
   "cell_type": "markdown",
   "id": "90395e99",
   "metadata": {},
   "source": [
    "### Create the component"
   ]
  },
  {
   "cell_type": "code",
   "execution_count": 25,
   "id": "1abfaf96",
   "metadata": {},
   "outputs": [],
   "source": [
    "from src.StarbucksProject import logger\n",
    "import joblib"
   ]
  },
  {
   "cell_type": "code",
   "execution_count": 26,
   "id": "b0895511",
   "metadata": {},
   "outputs": [],
   "source": [
    "class ModelTrainer:\n",
    "    \n",
    "    def __init__(self, config: ModelTrainerConfig):\n",
    "        \n",
    "        self.config = config\n",
    "\n",
    "    def train(self):\n",
    "                \n",
    "        X_train = pd.read_csv(self.config.x_train_path)\n",
    "        y_train = pd.read_csv(self.config.y_train_path)\n",
    "        \n",
    "        \n",
    "        scaler = StandardScaler()\n",
    "        X_train_scaled = scaler.fit_transform(X_train)\n",
    "            \n",
    "        \n",
    "        abr = AdaBoostRegressor()\n",
    "        abr.fit(X_train_scaled, y_train.values.ravel())\n",
    "        # knr = KNeighborsRegressor()\n",
    "        # knr.fit(X_train_scaled, y_train)\n",
    "        \n",
    "        joblib.dump(abr, os.path.join(self.config.root_dir, self.config.model_name))"
   ]
  },
  {
   "cell_type": "markdown",
   "id": "70527a32",
   "metadata": {},
   "source": [
    "### Create the pipeline"
   ]
  },
  {
   "cell_type": "code",
   "execution_count": 27,
   "id": "e81c97a7",
   "metadata": {},
   "outputs": [
    {
     "name": "stdout",
     "output_type": "stream",
     "text": [
      "[ 2024-07-16 19:37:41,602: INFO: common: yaml file: config/config.yaml loaded successfully ]\n",
      "[ 2024-07-16 19:37:41,605: INFO: common: yaml file: params.yaml loaded successfully ]\n",
      "[ 2024-07-16 19:37:41,607: INFO: common: yaml file: schema.yaml loaded successfully ]\n",
      "[ 2024-07-16 19:37:41,609: INFO: common: created directory at: artifacts ]\n",
      "[ 2024-07-16 19:37:41,609: INFO: common: created directory at: artifacts/model_training ]\n"
     ]
    }
   ],
   "source": [
    "try:\n",
    "\n",
    "    config = ConfigurationManager()\n",
    "\n",
    "    model_trainer_config = config.get_model_trainer_config()\n",
    "\n",
    "    model_trainer = ModelTrainer(config=model_trainer_config)\n",
    "\n",
    "    model_trainer.train()\n",
    "    \n",
    "except Exception as e:\n",
    "\n",
    "    raise e"
   ]
  },
  {
   "cell_type": "markdown",
   "id": "adfc2255",
   "metadata": {},
   "source": [
    "### Modularize the code (once working)"
   ]
  },
  {
   "cell_type": "markdown",
   "id": "77166c03",
   "metadata": {},
   "source": [
    "- Return to project folder"
   ]
  }
 ],
 "metadata": {
  "kernelspec": {
   "display_name": "starbucks_project",
   "language": "python",
   "name": "starbucks_project"
  },
  "language_info": {
   "codemirror_mode": {
    "name": "ipython",
    "version": 3
   },
   "file_extension": ".py",
   "mimetype": "text/x-python",
   "name": "python",
   "nbconvert_exporter": "python",
   "pygments_lexer": "ipython3",
   "version": "3.10.14"
  }
 },
 "nbformat": 4,
 "nbformat_minor": 5
}
