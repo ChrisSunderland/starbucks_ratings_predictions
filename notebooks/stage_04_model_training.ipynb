{
 "cells": [
  {
   "cell_type": "markdown",
   "id": "45c7f2a2",
   "metadata": {},
   "source": [
    "# 04 MODEL TRAINING"
   ]
  },
  {
   "cell_type": "code",
   "execution_count": 269,
   "id": "60172454",
   "metadata": {},
   "outputs": [],
   "source": [
    "import os\n",
    "import pandas as pd\n",
    "import numpy as np"
   ]
  },
  {
   "cell_type": "code",
   "execution_count": 270,
   "id": "ecd16ea4",
   "metadata": {},
   "outputs": [],
   "source": [
    "pd.set_option('display.max_columns', None)\n",
    "pd.set_option('display.max_rows', None)"
   ]
  },
  {
   "cell_type": "markdown",
   "id": "07718660",
   "metadata": {},
   "source": [
    "Get in the correct working directory"
   ]
  },
  {
   "cell_type": "code",
   "execution_count": 271,
   "id": "b5ebe8aa",
   "metadata": {
    "scrolled": true
   },
   "outputs": [
    {
     "data": {
      "text/plain": [
       "'/Users/chrissunderland/Desktop/starbucks_store_predictions'"
      ]
     },
     "execution_count": 271,
     "metadata": {},
     "output_type": "execute_result"
    }
   ],
   "source": [
    "%pwd"
   ]
  },
  {
   "cell_type": "code",
   "execution_count": 5,
   "id": "93888f79",
   "metadata": {},
   "outputs": [],
   "source": [
    "os.chdir(\"../\")"
   ]
  },
  {
   "cell_type": "code",
   "execution_count": 6,
   "id": "e2f78ab0",
   "metadata": {},
   "outputs": [
    {
     "data": {
      "text/plain": [
       "'/Users/chrissunderland/Desktop/starbucks_store_predictions'"
      ]
     },
     "execution_count": 6,
     "metadata": {},
     "output_type": "execute_result"
    }
   ],
   "source": [
    "%pwd"
   ]
  },
  {
   "cell_type": "markdown",
   "id": "293ac3a8",
   "metadata": {},
   "source": [
    "### Model Experiments"
   ]
  },
  {
   "cell_type": "code",
   "execution_count": 277,
   "id": "e58746e6",
   "metadata": {},
   "outputs": [],
   "source": [
    "from src.StarbucksProject.constants import *\n",
    "from src.StarbucksProject.utils.common import read_yaml, create_directories"
   ]
  },
  {
   "cell_type": "markdown",
   "id": "fc271568",
   "metadata": {},
   "source": [
    "#### Load the data"
   ]
  },
  {
   "cell_type": "code",
   "execution_count": 278,
   "id": "efe6303f",
   "metadata": {
    "scrolled": true
   },
   "outputs": [
    {
     "name": "stdout",
     "output_type": "stream",
     "text": [
      "[2024-07-12 13:58:53,447: INFO: common: yaml file: config/config.yaml loaded successfully]\n",
      "[2024-07-12 13:58:53,452: INFO: common: yaml file: config/config.yaml loaded successfully]\n"
     ]
    }
   ],
   "source": [
    "X_train_path = read_yaml(CONFIG_FILE_PATH).model_training.x_train_path\n",
    "y_train_path = read_yaml(CONFIG_FILE_PATH).model_training.y_train_path"
   ]
  },
  {
   "cell_type": "code",
   "execution_count": 279,
   "id": "c056564c",
   "metadata": {},
   "outputs": [],
   "source": [
    "X_train = pd.read_csv(X_train_path)\n",
    "y_train = pd.read_csv(y_train_path).values"
   ]
  },
  {
   "cell_type": "markdown",
   "id": "9569005d",
   "metadata": {},
   "source": [
    "Complete any remaining data preprocessing steps"
   ]
  },
  {
   "cell_type": "code",
   "execution_count": 280,
   "id": "3d2e2a32",
   "metadata": {},
   "outputs": [],
   "source": [
    "from sklearn.preprocessing import StandardScaler"
   ]
  },
  {
   "cell_type": "code",
   "execution_count": 281,
   "id": "0cbd29f1",
   "metadata": {},
   "outputs": [],
   "source": [
    "scaler = StandardScaler()\n",
    "X_train_scaled = scaler.fit_transform(X_train)\n",
    "X_test_scaled = scaler.transform(X_test)"
   ]
  },
  {
   "cell_type": "markdown",
   "id": "0659bbb9",
   "metadata": {},
   "source": [
    "#### Fit several models to the data and evaluate baseline performance"
   ]
  },
  {
   "cell_type": "code",
   "execution_count": 282,
   "id": "998c7141",
   "metadata": {},
   "outputs": [],
   "source": [
    "from sklearn.model_selection import cross_val_score"
   ]
  },
  {
   "cell_type": "code",
   "execution_count": 283,
   "id": "edc7dbc1",
   "metadata": {},
   "outputs": [],
   "source": [
    "def fit_model(model_name, x, y):\n",
    "    \n",
    "    model = model_name\n",
    "    model.fit(x, y)\n",
    "    \n",
    "    cv_scores = cross_val_score(model_name, x, y, cv=3, scoring='neg_mean_absolute_error')\n",
    "    cv_mae_scores = np.abs(cv_scores)\n",
    "\n",
    "    return cv_mae_scores"
   ]
  },
  {
   "cell_type": "markdown",
   "id": "b87b6ae0",
   "metadata": {},
   "source": [
    "#### Model 1 -  K Neighbors Regressor"
   ]
  },
  {
   "cell_type": "code",
   "execution_count": 284,
   "id": "28bc2991",
   "metadata": {},
   "outputs": [],
   "source": [
    "from sklearn.neighbors import KNeighborsRegressor"
   ]
  },
  {
   "cell_type": "code",
   "execution_count": 285,
   "id": "db5db669",
   "metadata": {
    "scrolled": true
   },
   "outputs": [
    {
     "name": "stdout",
     "output_type": "stream",
     "text": [
      "K Neighbors CV MAE scores = [0.38685854 0.37168293 0.39392683]\n"
     ]
    }
   ],
   "source": [
    "knr_mae_scores = fit_model(KNeighborsRegressor(), X_train_scaled, y_train)\n",
    "print(f\"K Neighbors CV MAE scores = {knr_mae_scores}\")"
   ]
  },
  {
   "cell_type": "markdown",
   "id": "966a9950",
   "metadata": {},
   "source": [
    "#### Model 2 - Random Forest Regressor"
   ]
  },
  {
   "cell_type": "code",
   "execution_count": 286,
   "id": "fc1e0c02",
   "metadata": {},
   "outputs": [],
   "source": [
    "from sklearn.ensemble import RandomForestRegressor"
   ]
  },
  {
   "cell_type": "code",
   "execution_count": 287,
   "id": "532f1905",
   "metadata": {},
   "outputs": [],
   "source": [
    "rf_mae_scores = fit_model(RandomForestRegressor(), X_train_scaled, y_train.ravel())"
   ]
  },
  {
   "cell_type": "code",
   "execution_count": 288,
   "id": "aaadee0d",
   "metadata": {},
   "outputs": [
    {
     "name": "stdout",
     "output_type": "stream",
     "text": [
      "RF CV MAE scores = [0.42933537 0.36515146 0.34072268]\n"
     ]
    }
   ],
   "source": [
    "print(f\"RF CV MAE scores = {rf_mae_scores}\")"
   ]
  },
  {
   "cell_type": "markdown",
   "id": "2d885e1c",
   "metadata": {},
   "source": [
    "#### Model 3 - AdaBoost Regressor"
   ]
  },
  {
   "cell_type": "code",
   "execution_count": 289,
   "id": "c641b969",
   "metadata": {},
   "outputs": [],
   "source": [
    "from sklearn.tree import DecisionTreeRegressor\n",
    "from sklearn.ensemble import AdaBoostRegressor"
   ]
  },
  {
   "cell_type": "code",
   "execution_count": 294,
   "id": "6d446342",
   "metadata": {},
   "outputs": [],
   "source": [
    "ada_mae_scores = fit_model(AdaBoostRegressor(), X_train_scaled, y_train.ravel())"
   ]
  },
  {
   "cell_type": "code",
   "execution_count": 295,
   "id": "74612192",
   "metadata": {},
   "outputs": [
    {
     "data": {
      "text/plain": [
       "array([0.42621159, 0.39404671, 0.37053581])"
      ]
     },
     "execution_count": 295,
     "metadata": {},
     "output_type": "execute_result"
    }
   ],
   "source": [
    "ada_mae_scores"
   ]
  },
  {
   "cell_type": "markdown",
   "id": "c0b139fe",
   "metadata": {},
   "source": [
    "### Create the entity"
   ]
  },
  {
   "cell_type": "code",
   "execution_count": 296,
   "id": "a0533e59",
   "metadata": {},
   "outputs": [],
   "source": [
    "from dataclasses import dataclass\n",
    "from pathlib import Path"
   ]
  },
  {
   "cell_type": "code",
   "execution_count": 297,
   "id": "dc9ef0dc",
   "metadata": {},
   "outputs": [],
   "source": [
    "@dataclass(frozen=True)\n",
    "class ModelTrainerConfig:\n",
    "    \n",
    "    root_dir: Path\n",
    "    x_train_path: Path\n",
    "    y_train_path: Path\n",
    "    model_name: str"
   ]
  },
  {
   "cell_type": "markdown",
   "id": "5850225b",
   "metadata": {},
   "source": [
    "### Create configuration manager"
   ]
  },
  {
   "cell_type": "code",
   "execution_count": 298,
   "id": "b53dc9f4",
   "metadata": {},
   "outputs": [],
   "source": [
    "from src.StarbucksProject.constants import *\n",
    "from src.StarbucksProject.utils.common import read_yaml, create_directories"
   ]
  },
  {
   "cell_type": "code",
   "execution_count": 299,
   "id": "29fb77fb",
   "metadata": {},
   "outputs": [],
   "source": [
    "class ConfigurationManager:\n",
    "\n",
    "    def __init__(self,\n",
    "                 config_filepath=CONFIG_FILE_PATH, \n",
    "                 params_filepath=PARAMS_FILE_PATH,\n",
    "                 schema_filepath=SCHEMA_FILE_PATH):\n",
    "\n",
    "        self.config = read_yaml(config_filepath)\n",
    "        self.params = read_yaml(params_filepath)\n",
    "        self.schema = read_yaml(schema_filepath)\n",
    "\n",
    "        create_directories([self.config.artifacts_root])\n",
    "\n",
    "    \n",
    "    def get_model_trainer_config(self) -> ModelTrainerConfig:\n",
    "        \n",
    "        config = self.config.model_training\n",
    "\n",
    "        create_directories([config.root_dir])\n",
    "\n",
    "        model_trainer_config = ModelTrainerConfig(\n",
    "            root_dir=config.root_dir,\n",
    "            x_train_path=config.x_train_path,\n",
    "            y_train_path=config.y_train_path,\n",
    "            model_name=config.model_name)\n",
    "\n",
    "        return model_trainer_config"
   ]
  },
  {
   "cell_type": "markdown",
   "id": "5b60b242",
   "metadata": {},
   "source": [
    "### Create the component"
   ]
  },
  {
   "cell_type": "code",
   "execution_count": 300,
   "id": "2431099d",
   "metadata": {},
   "outputs": [],
   "source": [
    "from src.StarbucksProject import logger\n",
    "import joblib"
   ]
  },
  {
   "cell_type": "code",
   "execution_count": 301,
   "id": "a87a91b5",
   "metadata": {},
   "outputs": [],
   "source": [
    "class ModelTrainer:\n",
    "    \n",
    "    def __init__(self, config: ModelTrainerConfig):\n",
    "        \n",
    "        self.config = config\n",
    "\n",
    "    def train(self):\n",
    "                \n",
    "        X_train = pd.read_csv(self.config.x_train_path)\n",
    "        y_train = pd.read_csv(self.config.y_train_path)\n",
    "        \n",
    "        \n",
    "        scaler = StandardScaler()\n",
    "        X_train_scaled = scaler.fit_transform(X_train)\n",
    "            \n",
    "        knr = KNeighborsRegressor()\n",
    "        knr.fit(X_train_scaled, y_train)\n",
    "        \n",
    "        joblib.dump(knr, os.path.join(self.config.root_dir, self.config.model_name))"
   ]
  },
  {
   "cell_type": "markdown",
   "id": "33bc8f36",
   "metadata": {},
   "source": [
    "### Create the pipeline"
   ]
  },
  {
   "cell_type": "code",
   "execution_count": 302,
   "id": "9d7b07d6",
   "metadata": {},
   "outputs": [
    {
     "name": "stdout",
     "output_type": "stream",
     "text": [
      "[2024-07-12 14:00:00,412: INFO: common: yaml file: config/config.yaml loaded successfully]\n",
      "[2024-07-12 14:00:00,414: INFO: common: yaml file: params.yaml loaded successfully]\n",
      "[2024-07-12 14:00:00,417: INFO: common: yaml file: schema.yaml loaded successfully]\n",
      "[2024-07-12 14:00:00,418: INFO: common: created directory at: artifacts]\n",
      "[2024-07-12 14:00:00,419: INFO: common: created directory at: artifacts/model_training]\n"
     ]
    }
   ],
   "source": [
    "try:\n",
    "\n",
    "    config = ConfigurationManager()\n",
    "\n",
    "    model_trainer_config = config.get_model_trainer_config()\n",
    "\n",
    "    model_trainer = ModelTrainer(config=model_trainer_config)\n",
    "\n",
    "    model_trainer.train()\n",
    "    \n",
    "except Exception as e:\n",
    "\n",
    "    raise e"
   ]
  },
  {
   "cell_type": "markdown",
   "id": "ac0ce15c",
   "metadata": {},
   "source": [
    "### Modularize the code (once working)"
   ]
  },
  {
   "cell_type": "markdown",
   "id": "d571e2fa",
   "metadata": {},
   "source": [
    "- Return to project folder"
   ]
  }
 ],
 "metadata": {
  "kernelspec": {
   "display_name": "starbucks_project",
   "language": "python",
   "name": "starbucks_project"
  },
  "language_info": {
   "codemirror_mode": {
    "name": "ipython",
    "version": 3
   },
   "file_extension": ".py",
   "mimetype": "text/x-python",
   "name": "python",
   "nbconvert_exporter": "python",
   "pygments_lexer": "ipython3",
   "version": "3.10.14"
  }
 },
 "nbformat": 4,
 "nbformat_minor": 5
}
