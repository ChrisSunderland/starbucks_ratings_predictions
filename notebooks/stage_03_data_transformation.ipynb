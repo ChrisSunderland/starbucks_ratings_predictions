{
 "cells": [
  {
   "cell_type": "markdown",
   "id": "6ec5de1e",
   "metadata": {},
   "source": [
    "## 03 DATA TRANSFORMATION"
   ]
  },
  {
   "cell_type": "code",
   "execution_count": 1,
   "id": "ea6d7946",
   "metadata": {},
   "outputs": [],
   "source": [
    "import os\n",
    "from dataclasses import dataclass"
   ]
  },
  {
   "cell_type": "markdown",
   "id": "84fc4c8d",
   "metadata": {},
   "source": [
    "Get in the correct working directory"
   ]
  },
  {
   "cell_type": "code",
   "execution_count": 2,
   "id": "012e132c",
   "metadata": {
    "scrolled": true
   },
   "outputs": [
    {
     "data": {
      "text/plain": [
       "'/Users/chrissunderland/Desktop/starbucks_store_predictions/research'"
      ]
     },
     "execution_count": 2,
     "metadata": {},
     "output_type": "execute_result"
    }
   ],
   "source": [
    "%pwd"
   ]
  },
  {
   "cell_type": "code",
   "execution_count": 3,
   "id": "5e393936",
   "metadata": {},
   "outputs": [],
   "source": [
    "os.chdir(\"../\")"
   ]
  },
  {
   "cell_type": "code",
   "execution_count": 4,
   "id": "00f34fbd",
   "metadata": {},
   "outputs": [
    {
     "data": {
      "text/plain": [
       "'/Users/chrissunderland/Desktop/starbucks_store_predictions'"
      ]
     },
     "execution_count": 4,
     "metadata": {},
     "output_type": "execute_result"
    }
   ],
   "source": [
    "%pwd"
   ]
  },
  {
   "cell_type": "code",
   "execution_count": 5,
   "id": "0bb305bb",
   "metadata": {},
   "outputs": [],
   "source": [
    "import pandas as pd\n",
    "from src.StarbucksProject.utils.common import read_yaml\n",
    "from src.StarbucksProject.constants import *"
   ]
  },
  {
   "cell_type": "code",
   "execution_count": 6,
   "id": "824724f6",
   "metadata": {},
   "outputs": [],
   "source": [
    "pd.set_option('display.max_columns', None)\n",
    "pd.set_option('display.max_rows', None)"
   ]
  },
  {
   "cell_type": "markdown",
   "id": "331b20e1",
   "metadata": {},
   "source": [
    "### Create the entity"
   ]
  },
  {
   "cell_type": "code",
   "execution_count": 7,
   "id": "8220abd2",
   "metadata": {},
   "outputs": [],
   "source": [
    "@dataclass(frozen=True)\n",
    "class DataTransformationConfig:\n",
    "    root_dir: Path  \n",
    "    data_path: Path"
   ]
  },
  {
   "cell_type": "markdown",
   "id": "523fd767",
   "metadata": {},
   "source": [
    "### Create configuration manager"
   ]
  },
  {
   "cell_type": "code",
   "execution_count": 8,
   "id": "8bbdab34",
   "metadata": {},
   "outputs": [],
   "source": [
    "from src.StarbucksProject.constants import *\n",
    "from src.StarbucksProject.utils.common import read_yaml, create_directories"
   ]
  },
  {
   "cell_type": "code",
   "execution_count": 9,
   "id": "2e24e83d",
   "metadata": {},
   "outputs": [],
   "source": [
    "class ConfigurationManager:\n",
    "\n",
    "    def __init__(self,\n",
    "                 config_filepath=CONFIG_FILE_PATH,  \n",
    "                 params_filepath=PARAMS_FILE_PATH,\n",
    "                 schema_filepath=SCHEMA_FILE_PATH):\n",
    "\n",
    "        self.config = read_yaml(config_filepath)\n",
    "        self.params = read_yaml(params_filepath)\n",
    "        self.schema = read_yaml(schema_filepath)\n",
    "\n",
    "        create_directories([self.config.artifacts_root])\n",
    "\n",
    "    \n",
    "    def get_data_transformation_config(self) -> DataTransformationConfig:\n",
    "    \n",
    "        config = self.config.data_transformation\n",
    "        \n",
    "        create_directories([config.root_dir])\n",
    "        \n",
    "        data_transformation_config = DataTransformationConfig(root_dir=config.root_dir,\n",
    "                                                              data_path = config.data_path)\n",
    "        \n",
    "        return data_transformation_config"
   ]
  },
  {
   "cell_type": "markdown",
   "id": "5b40f782",
   "metadata": {},
   "source": [
    "### Create the component"
   ]
  },
  {
   "cell_type": "code",
   "execution_count": 10,
   "id": "8ea6ebfd",
   "metadata": {},
   "outputs": [],
   "source": [
    "from src.StarbucksProject import logger\n",
    "from sklearn.model_selection import train_test_split"
   ]
  },
  {
   "cell_type": "code",
   "execution_count": 19,
   "id": "0dd7eddf",
   "metadata": {},
   "outputs": [],
   "source": [
    "class DataTransformation:\n",
    "\n",
    "    def __init__(self, config: DataTransformationConfig):\n",
    "\n",
    "        self.config = config\n",
    "\n",
    "    def split_data(self):\n",
    "    \n",
    "        data = pd.read_csv(self.config.data_path)\n",
    "        \n",
    "        X = data.iloc[:, :-1]\n",
    "        y = data.iloc[:, -1]  # I guess I could have done .target from the config.yaml file\n",
    "                        \n",
    "        X_train, X_test, y_train, y_test = train_test_split(X, y, random_state=42)\n",
    "        \n",
    "        logger.info(\"split data into training and rest sets\")\n",
    "        X_train.to_csv(os.path.join(self.config.root_dir, \"X_train.csv\"), index=False)\n",
    "        X_test.to_csv(os.path.join(self.config.root_dir, \"X_test.csv\"), index=False)\n",
    "        y_train.to_csv(os.path.join(self.config.root_dir, \"y_train.csv\"), index=False)\n",
    "        y_test.to_csv(os.path.join(self.config.root_dir, \"y_test.csv\"), index=False)\n",
    "        \n",
    "        logger.info(X_train.shape)\n",
    "        logger.info(y_train.shape)\n",
    "        logger.info(X_test.shape)\n",
    "        logger.info(y_test.shape)\n",
    "  "
   ]
  },
  {
   "cell_type": "markdown",
   "id": "9f5c0222",
   "metadata": {},
   "source": [
    "### Create the pipeline"
   ]
  },
  {
   "cell_type": "code",
   "execution_count": 18,
   "id": "566f5ccc",
   "metadata": {},
   "outputs": [
    {
     "name": "stdout",
     "output_type": "stream",
     "text": [
      "[2024-07-11 18:40:04,406: INFO: common: yaml file: config/config.yaml loaded successfully]\n",
      "[2024-07-11 18:40:04,408: INFO: common: yaml file: params.yaml loaded successfully]\n",
      "[2024-07-11 18:40:04,411: INFO: common: yaml file: schema.yaml loaded successfully]\n",
      "[2024-07-11 18:40:04,412: INFO: common: created directory at: artifacts]\n",
      "[2024-07-11 18:40:04,412: INFO: common: created directory at: artifacts/data_transformation]\n",
      "[2024-07-11 18:40:04,423: INFO: 3707799590: split data into training and rest sets]\n",
      "[2024-07-11 18:40:04,430: INFO: 3707799590: (123, 10)]\n",
      "[2024-07-11 18:40:04,431: INFO: 3707799590: (123,)]\n",
      "[2024-07-11 18:40:04,431: INFO: 3707799590: (42, 10)]\n",
      "[2024-07-11 18:40:04,432: INFO: 3707799590: (42,)]\n"
     ]
    }
   ],
   "source": [
    "try:\n",
    "\n",
    "    config = ConfigurationManager()\n",
    "\n",
    "    data_transformation_config = config.get_data_transformation_config()\n",
    "\n",
    "    data_transformation = DataTransformation(config=data_transformation_config)\n",
    "    \n",
    "    data_transformation.split_data()\n",
    "\n",
    "    \n",
    "except Exception as e:\n",
    "\n",
    "    raise e"
   ]
  },
  {
   "cell_type": "markdown",
   "id": "b11a9f4d",
   "metadata": {},
   "source": [
    "### Modularize the code (once working)"
   ]
  },
  {
   "cell_type": "markdown",
   "id": "af868760",
   "metadata": {},
   "source": [
    "- Return to project folder"
   ]
  }
 ],
 "metadata": {
  "kernelspec": {
   "display_name": "starbucks_project",
   "language": "python",
   "name": "starbucks_project"
  },
  "language_info": {
   "codemirror_mode": {
    "name": "ipython",
    "version": 3
   },
   "file_extension": ".py",
   "mimetype": "text/x-python",
   "name": "python",
   "nbconvert_exporter": "python",
   "pygments_lexer": "ipython3",
   "version": "3.10.14"
  }
 },
 "nbformat": 4,
 "nbformat_minor": 5
}
