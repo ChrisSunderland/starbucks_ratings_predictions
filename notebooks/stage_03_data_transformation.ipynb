{
 "cells": [
  {
   "cell_type": "markdown",
   "id": "24dee8f5",
   "metadata": {},
   "source": [
    "## 03 DATA TRANSFORMATION"
   ]
  },
  {
   "cell_type": "code",
   "execution_count": 1,
   "id": "48166089",
   "metadata": {},
   "outputs": [],
   "source": [
    "import os\n",
    "from dataclasses import dataclass"
   ]
  },
  {
   "cell_type": "markdown",
   "id": "213cd03c",
   "metadata": {},
   "source": [
    "Get in the correct working directory"
   ]
  },
  {
   "cell_type": "code",
   "execution_count": 2,
   "id": "bf37e4f5",
   "metadata": {
    "scrolled": true
   },
   "outputs": [
    {
     "data": {
      "text/plain": [
       "'/Users/chrissunderland/Desktop/starbucks_ratings_predictions/notebooks'"
      ]
     },
     "execution_count": 2,
     "metadata": {},
     "output_type": "execute_result"
    }
   ],
   "source": [
    "%pwd"
   ]
  },
  {
   "cell_type": "code",
   "execution_count": 3,
   "id": "f3308285",
   "metadata": {},
   "outputs": [],
   "source": [
    "os.chdir(\"../\")"
   ]
  },
  {
   "cell_type": "code",
   "execution_count": 4,
   "id": "d976b2b5",
   "metadata": {},
   "outputs": [
    {
     "data": {
      "text/plain": [
       "'/Users/chrissunderland/Desktop/starbucks_ratings_predictions'"
      ]
     },
     "execution_count": 4,
     "metadata": {},
     "output_type": "execute_result"
    }
   ],
   "source": [
    "%pwd"
   ]
  },
  {
   "cell_type": "code",
   "execution_count": 5,
   "id": "52e9b8cb",
   "metadata": {},
   "outputs": [],
   "source": [
    "import pandas as pd\n",
    "from src.StarbucksProject.utils.common import read_yaml\n",
    "from src.StarbucksProject.constants import *"
   ]
  },
  {
   "cell_type": "code",
   "execution_count": 6,
   "id": "cf318377",
   "metadata": {},
   "outputs": [],
   "source": [
    "pd.set_option('display.max_columns', None)\n",
    "pd.set_option('display.max_rows', None)"
   ]
  },
  {
   "cell_type": "markdown",
   "id": "1143ec59",
   "metadata": {},
   "source": [
    "### Create the entity"
   ]
  },
  {
   "cell_type": "code",
   "execution_count": 7,
   "id": "b437e949",
   "metadata": {},
   "outputs": [],
   "source": [
    "@dataclass(frozen=True)\n",
    "class DataTransformationConfig:\n",
    "    root_dir: Path  \n",
    "    data_path: Path"
   ]
  },
  {
   "cell_type": "markdown",
   "id": "f94cee2f",
   "metadata": {},
   "source": [
    "### Create configuration manager"
   ]
  },
  {
   "cell_type": "code",
   "execution_count": 8,
   "id": "49263987",
   "metadata": {},
   "outputs": [],
   "source": [
    "from src.StarbucksProject.constants import *\n",
    "from src.StarbucksProject.utils.common import read_yaml, create_directories"
   ]
  },
  {
   "cell_type": "code",
   "execution_count": 9,
   "id": "41d48e26",
   "metadata": {},
   "outputs": [],
   "source": [
    "class ConfigurationManager:\n",
    "\n",
    "    def __init__(self,\n",
    "                 config_filepath=CONFIG_FILE_PATH,  \n",
    "                 params_filepath=PARAMS_FILE_PATH,\n",
    "                 schema_filepath=SCHEMA_FILE_PATH):\n",
    "\n",
    "        self.config = read_yaml(config_filepath)\n",
    "        self.params = read_yaml(params_filepath)\n",
    "        self.schema = read_yaml(schema_filepath)\n",
    "\n",
    "        create_directories([self.config.artifacts_root])\n",
    "\n",
    "    \n",
    "    def get_data_transformation_config(self) -> DataTransformationConfig:\n",
    "    \n",
    "        config = self.config.data_transformation\n",
    "        \n",
    "        create_directories([config.root_dir])\n",
    "        \n",
    "        data_transformation_config = DataTransformationConfig(root_dir=config.root_dir,\n",
    "                                                              data_path = config.data_path)\n",
    "        \n",
    "        return data_transformation_config"
   ]
  },
  {
   "cell_type": "markdown",
   "id": "3e1f2de4",
   "metadata": {},
   "source": [
    "### Create the component"
   ]
  },
  {
   "cell_type": "code",
   "execution_count": 10,
   "id": "950c71b4",
   "metadata": {},
   "outputs": [],
   "source": [
    "from src.StarbucksProject import logger\n",
    "from sklearn.model_selection import train_test_split"
   ]
  },
  {
   "cell_type": "code",
   "execution_count": 11,
   "id": "c5e910e7",
   "metadata": {},
   "outputs": [],
   "source": [
    "class DataTransformation:\n",
    "\n",
    "    def __init__(self, config: DataTransformationConfig):\n",
    "\n",
    "        self.config = config\n",
    "\n",
    "    def split_data(self):\n",
    "    \n",
    "        data = pd.read_csv(self.config.data_path)\n",
    "        \n",
    "        X = data.iloc[:, :-1]\n",
    "        y = data.iloc[:, -1]\n",
    "                        \n",
    "        X_train, X_test, y_train, y_test = train_test_split(X, y, random_state=42)\n",
    "        \n",
    "        logger.info(\"split data into training and test sets\")\n",
    "        X_train.to_csv(os.path.join(self.config.root_dir, \"X_train.csv\"), index=False)\n",
    "        X_test.to_csv(os.path.join(self.config.root_dir, \"X_test.csv\"), index=False)\n",
    "        y_train.to_csv(os.path.join(self.config.root_dir, \"y_train.csv\"), index=False)\n",
    "        y_test.to_csv(os.path.join(self.config.root_dir, \"y_test.csv\"), index=False)  "
   ]
  },
  {
   "cell_type": "markdown",
   "id": "6cd6c7cd",
   "metadata": {},
   "source": [
    "### Create the pipeline"
   ]
  },
  {
   "cell_type": "code",
   "execution_count": 12,
   "id": "67050070",
   "metadata": {},
   "outputs": [
    {
     "name": "stdout",
     "output_type": "stream",
     "text": [
      "[ 2024-07-17 12:14:41,279: INFO: common: yaml file: config/config.yaml loaded successfully ]\n",
      "[ 2024-07-17 12:14:41,282: INFO: common: yaml file: params.yaml loaded successfully ]\n",
      "[ 2024-07-17 12:14:41,285: INFO: common: yaml file: schema.yaml loaded successfully ]\n",
      "[ 2024-07-17 12:14:41,286: INFO: common: created directory at: artifacts ]\n",
      "[ 2024-07-17 12:14:41,287: INFO: common: created directory at: artifacts/data_transformation ]\n",
      "[ 2024-07-17 12:14:41,294: INFO: 2476670019: split data into training and test sets ]\n"
     ]
    }
   ],
   "source": [
    "try:\n",
    "\n",
    "    config = ConfigurationManager()\n",
    "\n",
    "    data_transformation_config = config.get_data_transformation_config()\n",
    "\n",
    "    data_transformation = DataTransformation(config=data_transformation_config)\n",
    "    \n",
    "    data_transformation.split_data()\n",
    "\n",
    "    \n",
    "except Exception as e:\n",
    "\n",
    "    raise e"
   ]
  },
  {
   "cell_type": "markdown",
   "id": "19b200fa",
   "metadata": {},
   "source": [
    "### Modularize the code (once working)"
   ]
  },
  {
   "cell_type": "markdown",
   "id": "46c8557d",
   "metadata": {},
   "source": [
    "- Return to project folder"
   ]
  }
 ],
 "metadata": {
  "kernelspec": {
   "display_name": "starbucks_project",
   "language": "python",
   "name": "starbucks_project"
  },
  "language_info": {
   "codemirror_mode": {
    "name": "ipython",
    "version": 3
   },
   "file_extension": ".py",
   "mimetype": "text/x-python",
   "name": "python",
   "nbconvert_exporter": "python",
   "pygments_lexer": "ipython3",
   "version": "3.10.14"
  }
 },
 "nbformat": 4,
 "nbformat_minor": 5
}
