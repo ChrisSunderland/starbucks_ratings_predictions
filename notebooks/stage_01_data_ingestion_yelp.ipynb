{
 "cells": [
  {
   "cell_type": "markdown",
   "id": "df2dfcfe",
   "metadata": {},
   "source": [
    "# 01 DATA INGESTION"
   ]
  },
  {
   "cell_type": "markdown",
   "id": "41eeb313",
   "metadata": {},
   "source": [
    "## Yelp Review Data"
   ]
  },
  {
   "cell_type": "markdown",
   "id": "45ddeda3",
   "metadata": {},
   "source": [
    "#### Yelp Fusion API Documentation"
   ]
  },
  {
   "cell_type": "markdown",
   "id": "988805c9",
   "metadata": {},
   "source": [
    "https://docs.developer.yelp.com/reference/v3_business_search"
   ]
  },
  {
   "cell_type": "markdown",
   "id": "6b002d94",
   "metadata": {},
   "source": [
    "#### Use the 'business search' request to get review data for Starbucks in zip codes of interest"
   ]
  },
  {
   "cell_type": "code",
   "execution_count": 1,
   "id": "f3559474",
   "metadata": {},
   "outputs": [],
   "source": [
    "import os\n",
    "from dotenv import load_dotenv\n",
    "import requests\n",
    "import time\n",
    "import json\n",
    "from box import ConfigBox\n",
    "import pandas as pd"
   ]
  },
  {
   "cell_type": "code",
   "execution_count": 2,
   "id": "6265d341",
   "metadata": {},
   "outputs": [
    {
     "data": {
      "text/plain": [
       "'/Users/chrissunderland/Desktop/starbucks_store_predictions/research'"
      ]
     },
     "execution_count": 2,
     "metadata": {},
     "output_type": "execute_result"
    }
   ],
   "source": [
    "%pwd"
   ]
  },
  {
   "cell_type": "code",
   "execution_count": 3,
   "id": "1c931ba1",
   "metadata": {},
   "outputs": [],
   "source": [
    "os.chdir(\"../\")"
   ]
  },
  {
   "cell_type": "code",
   "execution_count": 4,
   "id": "06938adf",
   "metadata": {},
   "outputs": [
    {
     "data": {
      "text/plain": [
       "'/Users/chrissunderland/Desktop/starbucks_store_predictions'"
      ]
     },
     "execution_count": 4,
     "metadata": {},
     "output_type": "execute_result"
    }
   ],
   "source": [
    "%pwd"
   ]
  },
  {
   "cell_type": "code",
   "execution_count": 5,
   "id": "8d79e64c",
   "metadata": {},
   "outputs": [],
   "source": [
    "pd.set_option('display.max_columns', None)\n",
    "pd.set_option('display.max_rows', None)"
   ]
  },
  {
   "cell_type": "code",
   "execution_count": 6,
   "id": "fdbf24fa",
   "metadata": {},
   "outputs": [
    {
     "data": {
      "text/plain": [
       "True"
      ]
     },
     "execution_count": 6,
     "metadata": {},
     "output_type": "execute_result"
    }
   ],
   "source": [
    "load_dotenv()"
   ]
  },
  {
   "cell_type": "markdown",
   "id": "a3fa112d",
   "metadata": {},
   "source": [
    "Parameters\n",
    "- location: zip code\n",
    "- term: 'starbucks'\n",
    "- limit: number of results to return (50 max)\n",
    "- offset: index position of the first item to return "
   ]
  },
  {
   "cell_type": "markdown",
   "id": "8a097655",
   "metadata": {},
   "source": [
    "#### Test 'business search'"
   ]
  },
  {
   "cell_type": "code",
   "execution_count": 10,
   "id": "764d0622",
   "metadata": {},
   "outputs": [],
   "source": [
    "from src.StarbucksProject import logger\n",
    "from src.StarbucksProject.constants import *\n",
    "from src.StarbucksProject.utils.common import read_yaml"
   ]
  },
  {
   "cell_type": "code",
   "execution_count": 12,
   "id": "eaa40688",
   "metadata": {},
   "outputs": [
    {
     "name": "stdout",
     "output_type": "stream",
     "text": [
      "[2024-07-09 18:43:50,622: INFO: common: yaml file: config/config.yaml loaded successfully]\n"
     ]
    }
   ],
   "source": [
    "config = read_yaml(CONFIG_FILE_PATH)"
   ]
  },
  {
   "cell_type": "code",
   "execution_count": 13,
   "id": "d3b04611",
   "metadata": {},
   "outputs": [],
   "source": [
    "zip_codes = [80016, 80211, 80212, 80214, 80215, 80216, 80217, 80218, 80219, 80220]\n",
    "stores_per_zip = []\n",
    "reviews_per_zip = []\n",
    "weighted_avg_per_zip = []"
   ]
  },
  {
   "cell_type": "code",
   "execution_count": 14,
   "id": "73e1285c",
   "metadata": {},
   "outputs": [
    {
     "name": "stdout",
     "output_type": "stream",
     "text": [
      "[2024-07-09 18:45:04,951: INFO: 4177544235: API request made]\n",
      "store in zip =  ('Starbucks', 3.3, 13, '80016', '6100 S Gun Club Rd,Safeway,Aurora, CO 80016')\n",
      "store in zip =  ('Starbucks', 2.9, 49, '80016', '7500 S Gartrell Rd,Ste 101,Aurora, CO 80016')\n",
      "store in zip =  ('Starbucks', 2.8, 10, '80016', '7400 S Gartrell Rd,Target,Aurora, CO 80016')\n",
      "store in zip =  ('Starbucks', 2.0, 1, '80016', '25455 E Smoky Hill Rd,Aurora, CO 80016')\n",
      "store in zip =  ('STARBUCKS COFFEE', 2.4, 16, '80016', '25701 E Smoky Hill Rd,Aurora, CO 80016')\n",
      "store in zip =  ('Starbucks', 3.3, 40, '80016', '15795 E Arapahoe Rd,Centennial, CO 80016')\n",
      "Broke out of while loop - last 25 results didn't include a store in current zip code\n",
      "\n",
      "\n",
      "[2024-07-09 18:45:05,776: INFO: 4177544235: API request made]\n",
      "store in zip =  ('Starbucks', 5.0, 1, '80211', '2660 Federal Blvd,Safeway,Denver, CO 80211')\n",
      "store in zip =  ('Starbucks', 2.5, 44, '80211', '2990 W 44th Ave,Denver, CO 80211')\n",
      "store in zip =  ('Starbucks', 1.7, 6, '80211', '3800 W 44th Ave,Denver, CO 80211')\n",
      "store in zip =  ('Starbucks', 2.5, 12, '80211', '1991 Wazee St,Ste 120,Denver, CO 80211')\n",
      "Broke out of while loop - last 25 results didn't include a store in current zip code\n",
      "\n",
      "\n",
      "[2024-07-09 18:45:06,491: INFO: 4177544235: API request made]\n",
      "store in zip =  ('Starbucks', 3.0, 1, '80212', '5301 W 38th Ave,King Soopers-Denver #57,Wheat Ridge, CO 80212')\n",
      "store in zip =  ('Starbucks', 3.5, 43, '80212', '4500 W 38th Ave,Denver, CO 80212')\n",
      "Broke out of while loop - last 25 results didn't include a store in current zip code\n",
      "\n",
      "\n",
      "[2024-07-09 18:45:07,311: INFO: 4177544235: API request made]\n",
      "store in zip =  ('Starbucks', 2.0, 1, '80214', '1725 Sheridan Blvd,King Sooper Edgewater #90,Edgewater, CO 80214')\n",
      "store in zip =  ('Starbucks', 3.5, 26, '80214', '999 Wadsworth Blvd,Lakewood, CO 80214')\n",
      "store in zip =  ('STARBUCKS', 3.9, 53, '80214', '2255 Sheridan Blvd,Edgewater, CO 80214')\n",
      "Broke out of while loop - last 25 results didn't include a store in current zip code\n",
      "\n",
      "\n",
      "[2024-07-09 18:45:08,128: INFO: 4177544235: API request made]\n",
      "[2024-07-09 18:45:08,129: INFO: 4177544235: Broke out of while loop - last request didn't return any stores in current zip code]\n",
      "[2024-07-09 18:45:08,132: ERROR: 4177544235: cumsum is not supported for object dtype]\n",
      "Traceback (most recent call last):\n",
      "  File \"/Users/chrissunderland/opt/anaconda3/envs/starbucks_project/lib/python3.10/site-packages/pandas/core/groupby/generic.py\", line 529, in _cython_transform\n",
      "    result = self._grouper._cython_operation(\n",
      "  File \"/Users/chrissunderland/opt/anaconda3/envs/starbucks_project/lib/python3.10/site-packages/pandas/core/groupby/ops.py\", line 831, in _cython_operation\n",
      "    return cy_op.cython_operation(\n",
      "  File \"/Users/chrissunderland/opt/anaconda3/envs/starbucks_project/lib/python3.10/site-packages/pandas/core/groupby/ops.py\", line 550, in cython_operation\n",
      "    return self._cython_op_ndim_compat(\n",
      "  File \"/Users/chrissunderland/opt/anaconda3/envs/starbucks_project/lib/python3.10/site-packages/pandas/core/groupby/ops.py\", line 329, in _cython_op_ndim_compat\n",
      "    res = self._call_cython_op(\n",
      "  File \"/Users/chrissunderland/opt/anaconda3/envs/starbucks_project/lib/python3.10/site-packages/pandas/core/groupby/ops.py\", line 401, in _call_cython_op\n",
      "    func = self._get_cython_function(self.kind, self.how, values.dtype, is_numeric)\n",
      "  File \"/Users/chrissunderland/opt/anaconda3/envs/starbucks_project/lib/python3.10/site-packages/pandas/core/groupby/ops.py\", line 200, in _get_cython_function\n",
      "    raise NotImplementedError(\n",
      "NotImplementedError: function is not implemented for this dtype: [how->cumsum,dtype->object]\n",
      "\n",
      "The above exception was the direct cause of the following exception:\n",
      "\n",
      "Traceback (most recent call last):\n",
      "  File \"/var/folders/wk/bfrwyt4j5f9ct0_gkzsxhr700000gn/T/ipykernel_7580/4177544235.py\", line 60, in <module>\n",
      "    df['store_total_reviews'] = df.groupby('address')['reviews'].cumsum()\n",
      "  File \"/Users/chrissunderland/opt/anaconda3/envs/starbucks_project/lib/python3.10/site-packages/pandas/core/groupby/groupby.py\", line 4936, in cumsum\n",
      "    return self._cython_transform(\"cumsum\", **kwargs)\n",
      "  File \"/Users/chrissunderland/opt/anaconda3/envs/starbucks_project/lib/python3.10/site-packages/pandas/core/groupby/generic.py\", line 534, in _cython_transform\n",
      "    raise TypeError(f\"{how} is not supported for {obj.dtype} dtype\") from err\n",
      "TypeError: cumsum is not supported for object dtype\n",
      "[2024-07-09 18:45:08,136: INFO: 4177544235: Current zip code didn't contain any Starbucks locations]\n",
      "\n",
      "\n",
      "[2024-07-09 18:45:08,846: INFO: 4177544235: API request made]\n",
      "store in zip =  ('Starbucks', 2.5, 55, '80216', '4030 Colorado Blvd,Ste 101,Denver, CO 80216')\n",
      "store in zip =  ('Starbucks', 2.3, 64, '80216', '3470 Park Ave W,Denver, CO 80216')\n",
      "Broke out of while loop - last 25 results didn't include a store in current zip code\n",
      "\n",
      "\n",
      "[2024-07-09 18:45:09,869: INFO: 4177544235: API request made]\n",
      "[2024-07-09 18:45:09,870: INFO: 4177544235: Broke out of while loop - last request didn't return any stores in current zip code]\n",
      "[2024-07-09 18:45:09,873: ERROR: 4177544235: cumsum is not supported for object dtype]\n",
      "Traceback (most recent call last):\n",
      "  File \"/Users/chrissunderland/opt/anaconda3/envs/starbucks_project/lib/python3.10/site-packages/pandas/core/groupby/generic.py\", line 529, in _cython_transform\n",
      "    result = self._grouper._cython_operation(\n",
      "  File \"/Users/chrissunderland/opt/anaconda3/envs/starbucks_project/lib/python3.10/site-packages/pandas/core/groupby/ops.py\", line 831, in _cython_operation\n",
      "    return cy_op.cython_operation(\n",
      "  File \"/Users/chrissunderland/opt/anaconda3/envs/starbucks_project/lib/python3.10/site-packages/pandas/core/groupby/ops.py\", line 550, in cython_operation\n",
      "    return self._cython_op_ndim_compat(\n",
      "  File \"/Users/chrissunderland/opt/anaconda3/envs/starbucks_project/lib/python3.10/site-packages/pandas/core/groupby/ops.py\", line 329, in _cython_op_ndim_compat\n",
      "    res = self._call_cython_op(\n",
      "  File \"/Users/chrissunderland/opt/anaconda3/envs/starbucks_project/lib/python3.10/site-packages/pandas/core/groupby/ops.py\", line 401, in _call_cython_op\n",
      "    func = self._get_cython_function(self.kind, self.how, values.dtype, is_numeric)\n",
      "  File \"/Users/chrissunderland/opt/anaconda3/envs/starbucks_project/lib/python3.10/site-packages/pandas/core/groupby/ops.py\", line 200, in _get_cython_function\n",
      "    raise NotImplementedError(\n",
      "NotImplementedError: function is not implemented for this dtype: [how->cumsum,dtype->object]\n",
      "\n",
      "The above exception was the direct cause of the following exception:\n",
      "\n",
      "Traceback (most recent call last):\n",
      "  File \"/var/folders/wk/bfrwyt4j5f9ct0_gkzsxhr700000gn/T/ipykernel_7580/4177544235.py\", line 60, in <module>\n",
      "    df['store_total_reviews'] = df.groupby('address')['reviews'].cumsum()\n",
      "  File \"/Users/chrissunderland/opt/anaconda3/envs/starbucks_project/lib/python3.10/site-packages/pandas/core/groupby/groupby.py\", line 4936, in cumsum\n",
      "    return self._cython_transform(\"cumsum\", **kwargs)\n",
      "  File \"/Users/chrissunderland/opt/anaconda3/envs/starbucks_project/lib/python3.10/site-packages/pandas/core/groupby/generic.py\", line 534, in _cython_transform\n",
      "    raise TypeError(f\"{how} is not supported for {obj.dtype} dtype\") from err\n",
      "TypeError: cumsum is not supported for object dtype\n",
      "[2024-07-09 18:45:09,874: INFO: 4177544235: Current zip code didn't contain any Starbucks locations]\n",
      "\n",
      "\n",
      "[2024-07-09 18:45:10,586: INFO: 4177544235: API request made]\n",
      "store in zip =  ('Starbucks', 3.0, 11, '80218', '1155 E 9th Ave,King Soopers-Denver #29,Denver, CO 80218')\n",
      "store in zip =  ('Starbucks', 4.3, 3, '80218', '560 Corona St,Denver, CO 80218')\n",
      "Broke out of while loop - last 25 results didn't include a store in current zip code\n",
      "\n",
      "\n",
      "[2024-07-09 18:45:11,304: INFO: 4177544235: API request made]\n",
      "store in zip =  ('Starbucks', 1.7, 30, '80219', '2790 W Alameda Ave,Denver, CO 80219')\n",
      "Broke out of while loop - last 25 results didn't include a store in current zip code\n",
      "\n",
      "\n",
      "[2024-07-09 18:45:12,021: INFO: 4177544235: API request made]\n",
      "store in zip =  ('Starbucks', 2.8, 4, '80220', '6220 E 14th Ave,Safeway,Denver, CO 80220')\n",
      "store in zip =  ('Starbucks', 2.7, 20, '80220', '5901 E Colfax Ave,Denver, CO 80220')\n",
      "store in zip =  ('Starbucks', 2.9, 8, '80220', '8801 E Montview Blvd,Unit 130,Denver, CO 80220')\n",
      "store in zip =  ('Starbucks', 1.7, 7, '80220', '1653 S Colorado Blvd,Safeway,Denver, CO 80220')\n",
      "Broke out of while loop - last 25 results didn't include a store in current zip code\n",
      "\n",
      "\n"
     ]
    }
   ],
   "source": [
    "for zip_code in zip_codes:\n",
    "    \n",
    "    off = 0\n",
    "    term = \"starbucks\"\n",
    "    limit = 50\n",
    "    biz_list = [] # add stores to this list\n",
    "\n",
    "    while True:\n",
    "\n",
    "        API_KEY = os.getenv('yelp_api_key')\n",
    "        ENDPOINT = config.data_ingestion.yelp_api_endpoint\n",
    "        HEADERS = {\"accept\": \"application/json\", \n",
    "                   \"Authorization\": f\"Bearer {API_KEY}\"}\n",
    "        PARAMETERS = {'location': zip_code,\n",
    "                      'term': term,\n",
    "                      'offset': off,\n",
    "                      'limit': limit}\n",
    "\n",
    "        \n",
    "        response = requests.get(url=ENDPOINT,\n",
    "                                params= PARAMETERS,\n",
    "                                headers= HEADERS)\n",
    "        logger.info(\"API request made\")\n",
    "        \n",
    "        json_response = response.json()\n",
    "        biz_array = json_response['businesses']\n",
    "        biz_names = [i['name'] for i in biz_array]\n",
    "        biz_ratings = [i['rating'] for i in biz_array]\n",
    "        biz_review_count = [i['review_count'] for i in biz_array]\n",
    "        biz_zips = [i['location']['zip_code'] for i in biz_array]\n",
    "        biz_addresses = [\",\".join(i['location']['display_address']) for i in biz_array]\n",
    "\n",
    "        biz_data = list(zip(biz_names, biz_ratings, biz_review_count, biz_zips, biz_addresses))    \n",
    "        # filter out the Starbucks stores that aren't in the zip code of interest\n",
    "        filtered_data = [i for i in biz_data if (term in i[0].lower()) and (i[3] == str(zip_code))]\n",
    "\n",
    "        if len(filtered_data) == 0:\n",
    "            logger.info(\"Broke out of while loop - last request didn't return any stores in current zip code\")\n",
    "            break  \n",
    "        \n",
    "        for shop in filtered_data:\n",
    "            print(\"store in zip = \", shop)\n",
    "            biz_list.append(shop)\n",
    "\n",
    "        if len([i[3] for i in biz_data[25:] if i[3] == str(zip_code) and term in i[0].lower()]) == 0: \n",
    "            print(\"Broke out of while loop - last 25 results didn't include a store in current zip code\")\n",
    "            break\n",
    "        \n",
    "        off += limit  # make another HTTP request for the same zip code\n",
    "\n",
    "        time.sleep(2)\n",
    "        \n",
    "    try: \n",
    "        \n",
    "        # summarize Yelp review history to assess how Starbucks has performed in the zip code\n",
    "        df = pd.DataFrame(biz_list, columns=['store_name', 'avg_rating', 'reviews', 'zip', 'address'])\n",
    "        df['store_total_reviews'] = df.groupby('address')['reviews'].cumsum()\n",
    "        df['store_weight'] = df['avg_rating'] * df['reviews']\n",
    "        df['store_total_weight'] =  df.groupby('address')['store_weight'].cumsum()\n",
    "        df['avg_rating_weighted'] = round(df['store_total_weight'] / df['store_total_reviews'], 2)\n",
    "        df = df.drop_duplicates(subset=['address'], keep='last')\n",
    "        df.drop(['avg_rating', 'reviews', 'address', 'store_weight', 'store_total_weight'], axis=1, inplace=True)\n",
    "        df['zip_average_contribution'] = round(df['store_total_reviews'] * df['avg_rating_weighted'], 2)\n",
    "\n",
    "        stores_per_zip.append(df.shape[0])\n",
    "        reviews_per_zip.append(df['store_total_reviews'].sum())\n",
    "        weighted_avg_per_zip.append(round(df['zip_average_contribution'].sum() / df['store_total_reviews'].sum(), 3))\n",
    "    \n",
    "    except Exception as e:\n",
    "        logger.exception(f\"{e}\")\n",
    "        logger.info(\"Current zip code didn't contain any Starbucks locations\")\n",
    "        stores_per_zip.append(0)\n",
    "        reviews_per_zip.append(0)\n",
    "        weighted_avg_per_zip.append(0)       \n",
    "    \n",
    "    print(\"\\n\")"
   ]
  },
  {
   "cell_type": "code",
   "execution_count": 15,
   "id": "4f574739",
   "metadata": {},
   "outputs": [],
   "source": [
    "starbucks_data = list(zip(zip_codes, stores_per_zip, reviews_per_zip, weighted_avg_per_zip))"
   ]
  },
  {
   "cell_type": "code",
   "execution_count": 16,
   "id": "a4154535",
   "metadata": {},
   "outputs": [],
   "source": [
    "starbucks_data_df = pd.DataFrame(starbucks_data, columns=['zip', 'total_stores', 'total_reviews', 'review_weighted_avg'])"
   ]
  },
  {
   "cell_type": "code",
   "execution_count": 17,
   "id": "a0efd541",
   "metadata": {},
   "outputs": [
    {
     "data": {
      "text/html": [
       "<div>\n",
       "<style scoped>\n",
       "    .dataframe tbody tr th:only-of-type {\n",
       "        vertical-align: middle;\n",
       "    }\n",
       "\n",
       "    .dataframe tbody tr th {\n",
       "        vertical-align: top;\n",
       "    }\n",
       "\n",
       "    .dataframe thead th {\n",
       "        text-align: right;\n",
       "    }\n",
       "</style>\n",
       "<table border=\"1\" class=\"dataframe\">\n",
       "  <thead>\n",
       "    <tr style=\"text-align: right;\">\n",
       "      <th></th>\n",
       "      <th>zip</th>\n",
       "      <th>total_stores</th>\n",
       "      <th>total_reviews</th>\n",
       "      <th>review_weighted_avg</th>\n",
       "    </tr>\n",
       "  </thead>\n",
       "  <tbody>\n",
       "    <tr>\n",
       "      <th>0</th>\n",
       "      <td>80016</td>\n",
       "      <td>6</td>\n",
       "      <td>129</td>\n",
       "      <td>2.988</td>\n",
       "    </tr>\n",
       "    <tr>\n",
       "      <th>1</th>\n",
       "      <td>80211</td>\n",
       "      <td>4</td>\n",
       "      <td>63</td>\n",
       "      <td>2.463</td>\n",
       "    </tr>\n",
       "    <tr>\n",
       "      <th>2</th>\n",
       "      <td>80212</td>\n",
       "      <td>2</td>\n",
       "      <td>44</td>\n",
       "      <td>3.489</td>\n",
       "    </tr>\n",
       "    <tr>\n",
       "      <th>3</th>\n",
       "      <td>80214</td>\n",
       "      <td>3</td>\n",
       "      <td>80</td>\n",
       "      <td>3.746</td>\n",
       "    </tr>\n",
       "    <tr>\n",
       "      <th>4</th>\n",
       "      <td>80215</td>\n",
       "      <td>0</td>\n",
       "      <td>0</td>\n",
       "      <td>0.000</td>\n",
       "    </tr>\n",
       "    <tr>\n",
       "      <th>5</th>\n",
       "      <td>80216</td>\n",
       "      <td>2</td>\n",
       "      <td>119</td>\n",
       "      <td>2.392</td>\n",
       "    </tr>\n",
       "    <tr>\n",
       "      <th>6</th>\n",
       "      <td>80217</td>\n",
       "      <td>0</td>\n",
       "      <td>0</td>\n",
       "      <td>0.000</td>\n",
       "    </tr>\n",
       "    <tr>\n",
       "      <th>7</th>\n",
       "      <td>80218</td>\n",
       "      <td>2</td>\n",
       "      <td>14</td>\n",
       "      <td>3.279</td>\n",
       "    </tr>\n",
       "    <tr>\n",
       "      <th>8</th>\n",
       "      <td>80219</td>\n",
       "      <td>1</td>\n",
       "      <td>30</td>\n",
       "      <td>1.700</td>\n",
       "    </tr>\n",
       "    <tr>\n",
       "      <th>9</th>\n",
       "      <td>80220</td>\n",
       "      <td>4</td>\n",
       "      <td>39</td>\n",
       "      <td>2.572</td>\n",
       "    </tr>\n",
       "  </tbody>\n",
       "</table>\n",
       "</div>"
      ],
      "text/plain": [
       "     zip  total_stores  total_reviews  review_weighted_avg\n",
       "0  80016             6            129                2.988\n",
       "1  80211             4             63                2.463\n",
       "2  80212             2             44                3.489\n",
       "3  80214             3             80                3.746\n",
       "4  80215             0              0                0.000\n",
       "5  80216             2            119                2.392\n",
       "6  80217             0              0                0.000\n",
       "7  80218             2             14                3.279\n",
       "8  80219             1             30                1.700\n",
       "9  80220             4             39                2.572"
      ]
     },
     "execution_count": 17,
     "metadata": {},
     "output_type": "execute_result"
    }
   ],
   "source": [
    "starbucks_data_df "
   ]
  },
  {
   "cell_type": "code",
   "execution_count": null,
   "id": "5f7553b2",
   "metadata": {},
   "outputs": [],
   "source": []
  }
 ],
 "metadata": {
  "kernelspec": {
   "display_name": "starbucks_project",
   "language": "python",
   "name": "starbucks_project"
  },
  "language_info": {
   "codemirror_mode": {
    "name": "ipython",
    "version": 3
   },
   "file_extension": ".py",
   "mimetype": "text/x-python",
   "name": "python",
   "nbconvert_exporter": "python",
   "pygments_lexer": "ipython3",
   "version": "3.10.14"
  }
 },
 "nbformat": 4,
 "nbformat_minor": 5
}
